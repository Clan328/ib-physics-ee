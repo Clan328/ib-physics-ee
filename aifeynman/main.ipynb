{
 "cells": [
  {
   "cell_type": "markdown",
   "id": "7338cd89",
   "metadata": {},
   "source": [
    "# AI-Feynman"
   ]
  },
  {
   "cell_type": "markdown",
   "id": "cba58bf7",
   "metadata": {},
   "source": [
    "## Imports"
   ]
  },
  {
   "cell_type": "code",
   "execution_count": 1,
   "id": "1cc98d76",
   "metadata": {},
   "outputs": [],
   "source": [
    "import sys\n",
    "import numpy as np\n",
    "import math\n",
    "import matplotlib.pyplot as plt\n",
    "from tqdm.notebook import trange, tqdm"
   ]
  },
  {
   "cell_type": "code",
   "execution_count": 2,
   "id": "b095e063",
   "metadata": {},
   "outputs": [],
   "source": [
    "from galaxy import Galaxy\n",
    "from redshift import Redshift"
   ]
  },
  {
   "cell_type": "markdown",
   "id": "a2014a12",
   "metadata": {},
   "source": [
    "## Paths"
   ]
  },
  {
   "cell_type": "code",
   "execution_count": 3,
   "id": "87fe679e",
   "metadata": {},
   "outputs": [],
   "source": [
    "ROOT = sys.prefix[:-4]\n",
    "DATA_DIR = ROOT + 'data/Uchuu-UM/'\n",
    "\n",
    "FILES = [\n",
    "            'Sample.01.Redshift.0.000.h5',\n",
    "            'Sample.01.Redshift.1.032.h5',\n",
    "            'Sample.01.Redshift.2.029.h5',\n",
    "            'Sample.01.Redshift.3.129.h5',\n",
    "            'Sample.01.Redshift.4.269.h5',\n",
    "            'Sample.01.Redshift.5.155.h5'\n",
    "        ]\n",
    "\n",
    "PATHS = [DATA_DIR + f for f in FILES]"
   ]
  },
  {
   "cell_type": "markdown",
   "id": "c16f25f3",
   "metadata": {},
   "source": [
    "## Data processing"
   ]
  },
  {
   "cell_type": "markdown",
   "id": "d44c290a",
   "metadata": {},
   "source": [
    "### Constants"
   ]
  },
  {
   "cell_type": "code",
   "execution_count": 4,
   "id": "ca6b56e7",
   "metadata": {},
   "outputs": [],
   "source": [
    "Z = 0\n",
    "N_GALAXIES = 1000000"
   ]
  },
  {
   "cell_type": "markdown",
   "id": "4d32a2dc",
   "metadata": {},
   "source": [
    "### Load Redshift"
   ]
  },
  {
   "cell_type": "code",
   "execution_count": 5,
   "id": "28a5fbd3",
   "metadata": {},
   "outputs": [
    {
     "data": {
      "application/vnd.jupyter.widget-view+json": {
       "model_id": "f2a8de509c7341658df2488bace5c60f",
       "version_major": 2,
       "version_minor": 0
      },
      "text/plain": [
       "  0%|          | 0/1000000 [00:00<?, ?it/s]"
      ]
     },
     "metadata": {},
     "output_type": "display_data"
    }
   ],
   "source": [
    "redshift = Redshift(PATHS[Z], Ngalaxies=N_GALAXIES)"
   ]
  },
  {
   "cell_type": "markdown",
   "id": "12bb2099",
   "metadata": {},
   "source": [
    "### Median of scatter"
   ]
  },
  {
   "cell_type": "code",
   "execution_count": 14,
   "id": "9f9ee512",
   "metadata": {},
   "outputs": [],
   "source": [
    "SM = [g.SM for g in redshift.galaxies]"
   ]
  }
 ],
 "metadata": {
  "kernelspec": {
   "display_name": "Python 3 (ipykernel)",
   "language": "python",
   "name": "python3"
  },
  "language_info": {
   "codemirror_mode": {
    "name": "ipython",
    "version": 3
   },
   "file_extension": ".py",
   "mimetype": "text/x-python",
   "name": "python",
   "nbconvert_exporter": "python",
   "pygments_lexer": "ipython3",
   "version": "3.10.9"
  }
 },
 "nbformat": 4,
 "nbformat_minor": 5
}
