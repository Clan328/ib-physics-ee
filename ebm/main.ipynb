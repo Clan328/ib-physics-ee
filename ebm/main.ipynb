{
 "cells": [
  {
   "cell_type": "markdown",
   "id": "01ecc033",
   "metadata": {},
   "source": [
    "# Explainable Boosting Machine"
   ]
  },
  {
   "cell_type": "markdown",
   "id": "bb99c2c5",
   "metadata": {},
   "source": [
    "## Imports"
   ]
  },
  {
   "cell_type": "code",
   "execution_count": 1,
   "id": "51bf990a",
   "metadata": {},
   "outputs": [],
   "source": [
    "from interpret import set_visualize_provider\n",
    "from interpret.provider import InlineProvider\n",
    "set_visualize_provider(InlineProvider())"
   ]
  },
  {
   "cell_type": "code",
   "execution_count": 2,
   "id": "214f9733",
   "metadata": {
    "scrolled": true
   },
   "outputs": [],
   "source": [
    "import pandas as pd\n",
    "from sklearn.model_selection import train_test_split\n",
    "\n",
    "from interpret.glassbox import ExplainableBoostingClassifier\n",
    "from interpret import show"
   ]
  },
  {
   "cell_type": "code",
   "execution_count": 3,
   "id": "66c1f6bf",
   "metadata": {},
   "outputs": [],
   "source": [
    "import sys\n",
    "import h5py\n",
    "import numpy as np"
   ]
  },
  {
   "cell_type": "markdown",
   "id": "84185a96",
   "metadata": {},
   "source": [
    "## Paths"
   ]
  },
  {
   "cell_type": "code",
   "execution_count": 4,
   "id": "7b9473de",
   "metadata": {},
   "outputs": [],
   "source": [
    "ROOT = sys.prefix[:-4]\n",
    "DATA_DIR = ROOT + 'data\\\\Uchuu-UM\\\\'\n",
    "\n",
    "FILES = [\n",
    "            'Sample.01.Redshift.0.000.h5',\n",
    "            'Sample.01.Redshift.1.032.h5',\n",
    "            'Sample.01.Redshift.2.029.h5',\n",
    "            'Sample.01.Redshift.3.129.h5',\n",
    "            'Sample.01.Redshift.4.269.h5',\n",
    "            'Sample.01.Redshift.5.155.h5'\n",
    "        ]\n",
    "\n",
    "PATHS = [DATA_DIR + f for f in FILES]"
   ]
  },
  {
   "cell_type": "markdown",
   "id": "a25540db",
   "metadata": {},
   "source": [
    "## Data processing"
   ]
  },
  {
   "cell_type": "code",
   "execution_count": 5,
   "id": "bc764f0c",
   "metadata": {},
   "outputs": [],
   "source": [
    "REDSHIFT = 5"
   ]
  },
  {
   "cell_type": "code",
   "execution_count": 6,
   "id": "ecc11ff9",
   "metadata": {},
   "outputs": [],
   "source": [
    "path = PATHS[REDSHIFT]\n",
    "h = h5py.File(path, 'r')"
   ]
  },
  {
   "cell_type": "code",
   "execution_count": 7,
   "id": "816afd1d",
   "metadata": {},
   "outputs": [],
   "source": [
    "df = pd.DataFrame({\n",
    "    'Mvir': np.real(h.get('Mvir')),\n",
    "    'StellarMass': np.real(h.get('StellarMass')),\n",
    "    'StarFormationRate': np.real(h.get('StarFormationRate'))\n",
    "})"
   ]
  },
  {
   "cell_type": "code",
   "execution_count": 16,
   "id": "a8e77e10",
   "metadata": {
    "scrolled": true
   },
   "outputs": [
    {
     "data": {
      "text/html": [
       "<div>\n",
       "<style scoped>\n",
       "    .dataframe tbody tr th:only-of-type {\n",
       "        vertical-align: middle;\n",
       "    }\n",
       "\n",
       "    .dataframe tbody tr th {\n",
       "        vertical-align: top;\n",
       "    }\n",
       "\n",
       "    .dataframe thead th {\n",
       "        text-align: right;\n",
       "    }\n",
       "</style>\n",
       "<table border=\"1\" class=\"dataframe\">\n",
       "  <thead>\n",
       "    <tr style=\"text-align: right;\">\n",
       "      <th></th>\n",
       "      <th>Mvir</th>\n",
       "      <th>StellarMass</th>\n",
       "      <th>StarFormationRate</th>\n",
       "    </tr>\n",
       "  </thead>\n",
       "  <tbody>\n",
       "    <tr>\n",
       "      <th>2556632</th>\n",
       "      <td>2.812000e+10</td>\n",
       "      <td>1.968547e+08</td>\n",
       "      <td>0.279518</td>\n",
       "    </tr>\n",
       "    <tr>\n",
       "      <th>6514554</th>\n",
       "      <td>2.077000e+11</td>\n",
       "      <td>1.231111e+09</td>\n",
       "      <td>0.185750</td>\n",
       "    </tr>\n",
       "    <tr>\n",
       "      <th>2938393</th>\n",
       "      <td>3.924000e+10</td>\n",
       "      <td>1.067251e+08</td>\n",
       "      <td>0.432267</td>\n",
       "    </tr>\n",
       "    <tr>\n",
       "      <th>4276252</th>\n",
       "      <td>1.236000e+11</td>\n",
       "      <td>4.408923e+08</td>\n",
       "      <td>0.760493</td>\n",
       "    </tr>\n",
       "    <tr>\n",
       "      <th>2088477</th>\n",
       "      <td>2.289000e+10</td>\n",
       "      <td>1.553236e+08</td>\n",
       "      <td>1.740504</td>\n",
       "    </tr>\n",
       "    <tr>\n",
       "      <th>...</th>\n",
       "      <td>...</td>\n",
       "      <td>...</td>\n",
       "      <td>...</td>\n",
       "    </tr>\n",
       "    <tr>\n",
       "      <th>5572123</th>\n",
       "      <td>7.096000e+10</td>\n",
       "      <td>2.434861e+08</td>\n",
       "      <td>152.222885</td>\n",
       "    </tr>\n",
       "    <tr>\n",
       "      <th>510362</th>\n",
       "      <td>9.810000e+09</td>\n",
       "      <td>1.176770e+08</td>\n",
       "      <td>3.108943</td>\n",
       "    </tr>\n",
       "    <tr>\n",
       "      <th>3984572</th>\n",
       "      <td>7.914000e+10</td>\n",
       "      <td>2.405337e+08</td>\n",
       "      <td>0.554991</td>\n",
       "    </tr>\n",
       "    <tr>\n",
       "      <th>4281740</th>\n",
       "      <td>5.919000e+10</td>\n",
       "      <td>1.342575e+08</td>\n",
       "      <td>2.369842</td>\n",
       "    </tr>\n",
       "    <tr>\n",
       "      <th>1053943</th>\n",
       "      <td>5.036000e+10</td>\n",
       "      <td>2.843004e+08</td>\n",
       "      <td>0.618833</td>\n",
       "    </tr>\n",
       "  </tbody>\n",
       "</table>\n",
       "<p>4039 rows × 3 columns</p>\n",
       "</div>"
      ],
      "text/plain": [
       "                 Mvir   StellarMass  StarFormationRate\n",
       "2556632  2.812000e+10  1.968547e+08           0.279518\n",
       "6514554  2.077000e+11  1.231111e+09           0.185750\n",
       "2938393  3.924000e+10  1.067251e+08           0.432267\n",
       "4276252  1.236000e+11  4.408923e+08           0.760493\n",
       "2088477  2.289000e+10  1.553236e+08           1.740504\n",
       "...               ...           ...                ...\n",
       "5572123  7.096000e+10  2.434861e+08         152.222885\n",
       "510362   9.810000e+09  1.176770e+08           3.108943\n",
       "3984572  7.914000e+10  2.405337e+08           0.554991\n",
       "4281740  5.919000e+10  1.342575e+08           2.369842\n",
       "1053943  5.036000e+10  2.843004e+08           0.618833\n",
       "\n",
       "[4039 rows x 3 columns]"
      ]
     },
     "execution_count": 16,
     "metadata": {},
     "output_type": "execute_result"
    }
   ],
   "source": [
    "df.sample(frac=0.0005)"
   ]
  },
  {
   "cell_type": "code",
   "execution_count": null,
   "id": "34ea0a84",
   "metadata": {},
   "outputs": [],
   "source": [
    "df = df.sample(frac=0.0005)\n",
    "\n",
    "train_cols = ['Mvir', 'StellarMass'] # Quitar stellarmass\n",
    "label = 'StarFormationRate'\n",
    "X = df[train_cols]\n",
    "y = df[label]\n",
    "\n",
    "seed = 1\n",
    "X_train, X_test, y_train, y_test = train_test_split(X, y, test_size=0.20, random_state=seed)\n",
    "\n",
    "ebm = ExplainableBoostingClassifier(random_state=seed)\n",
    "ebm.fit(X_train, y_train)\n",
    "\n",
    "ebm_global = ebm.explain_global()\n",
    "show(ebm_global)\n",
    "\n",
    "ebm_local = ebm.explain_local(X_test[:5], y_test[:5])\n",
    "show(ebm_local)"
   ]
  }
 ],
 "metadata": {
  "kernelspec": {
   "display_name": "Python 3 (ipykernel)",
   "language": "python",
   "name": "python3"
  },
  "language_info": {
   "codemirror_mode": {
    "name": "ipython",
    "version": 3
   },
   "file_extension": ".py",
   "mimetype": "text/x-python",
   "name": "python",
   "nbconvert_exporter": "python",
   "pygments_lexer": "ipython3",
   "version": "3.10.9"
  }
 },
 "nbformat": 4,
 "nbformat_minor": 5
}
